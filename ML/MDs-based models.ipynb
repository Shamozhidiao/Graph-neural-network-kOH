{
 "cells": [
  {
   "cell_type": "code",
   "execution_count": 1,
   "id": "c2441778",
   "metadata": {},
   "outputs": [
    {
     "name": "stderr",
     "output_type": "stream",
     "text": [
      "D:\\anaconda\\lib\\site-packages\\shap\\utils\\_clustering.py:35: NumbaDeprecationWarning: \u001b[1mThe 'nopython' keyword argument was not supplied to the 'numba.jit' decorator. The implicit default value for this argument is currently False, but it will be changed to True in Numba 0.59.0. See https://numba.readthedocs.io/en/stable/reference/deprecation.html#deprecation-of-object-mode-fall-back-behaviour-when-using-jit for details.\u001b[0m\n",
      "  def _pt_shuffle_rec(i, indexes, index_mask, partition_tree, M, pos):\n",
      "D:\\anaconda\\lib\\site-packages\\shap\\utils\\_clustering.py:54: NumbaDeprecationWarning: \u001b[1mThe 'nopython' keyword argument was not supplied to the 'numba.jit' decorator. The implicit default value for this argument is currently False, but it will be changed to True in Numba 0.59.0. See https://numba.readthedocs.io/en/stable/reference/deprecation.html#deprecation-of-object-mode-fall-back-behaviour-when-using-jit for details.\u001b[0m\n",
      "  def delta_minimization_order(all_masks, max_swap_size=100, num_passes=2):\n",
      "D:\\anaconda\\lib\\site-packages\\shap\\utils\\_clustering.py:63: NumbaDeprecationWarning: \u001b[1mThe 'nopython' keyword argument was not supplied to the 'numba.jit' decorator. The implicit default value for this argument is currently False, but it will be changed to True in Numba 0.59.0. See https://numba.readthedocs.io/en/stable/reference/deprecation.html#deprecation-of-object-mode-fall-back-behaviour-when-using-jit for details.\u001b[0m\n",
      "  def _reverse_window(order, start, length):\n",
      "D:\\anaconda\\lib\\site-packages\\shap\\utils\\_clustering.py:69: NumbaDeprecationWarning: \u001b[1mThe 'nopython' keyword argument was not supplied to the 'numba.jit' decorator. The implicit default value for this argument is currently False, but it will be changed to True in Numba 0.59.0. See https://numba.readthedocs.io/en/stable/reference/deprecation.html#deprecation-of-object-mode-fall-back-behaviour-when-using-jit for details.\u001b[0m\n",
      "  def _reverse_window_score_gain(masks, order, start, length):\n",
      "D:\\anaconda\\lib\\site-packages\\shap\\utils\\_clustering.py:77: NumbaDeprecationWarning: \u001b[1mThe 'nopython' keyword argument was not supplied to the 'numba.jit' decorator. The implicit default value for this argument is currently False, but it will be changed to True in Numba 0.59.0. See https://numba.readthedocs.io/en/stable/reference/deprecation.html#deprecation-of-object-mode-fall-back-behaviour-when-using-jit for details.\u001b[0m\n",
      "  def _mask_delta_score(m1, m2):\n",
      "D:\\anaconda\\lib\\site-packages\\shap\\links.py:5: NumbaDeprecationWarning: \u001b[1mThe 'nopython' keyword argument was not supplied to the 'numba.jit' decorator. The implicit default value for this argument is currently False, but it will be changed to True in Numba 0.59.0. See https://numba.readthedocs.io/en/stable/reference/deprecation.html#deprecation-of-object-mode-fall-back-behaviour-when-using-jit for details.\u001b[0m\n",
      "  def identity(x):\n",
      "D:\\anaconda\\lib\\site-packages\\shap\\links.py:10: NumbaDeprecationWarning: \u001b[1mThe 'nopython' keyword argument was not supplied to the 'numba.jit' decorator. The implicit default value for this argument is currently False, but it will be changed to True in Numba 0.59.0. See https://numba.readthedocs.io/en/stable/reference/deprecation.html#deprecation-of-object-mode-fall-back-behaviour-when-using-jit for details.\u001b[0m\n",
      "  def _identity_inverse(x):\n",
      "D:\\anaconda\\lib\\site-packages\\shap\\links.py:15: NumbaDeprecationWarning: \u001b[1mThe 'nopython' keyword argument was not supplied to the 'numba.jit' decorator. The implicit default value for this argument is currently False, but it will be changed to True in Numba 0.59.0. See https://numba.readthedocs.io/en/stable/reference/deprecation.html#deprecation-of-object-mode-fall-back-behaviour-when-using-jit for details.\u001b[0m\n",
      "  def logit(x):\n",
      "D:\\anaconda\\lib\\site-packages\\shap\\links.py:20: NumbaDeprecationWarning: \u001b[1mThe 'nopython' keyword argument was not supplied to the 'numba.jit' decorator. The implicit default value for this argument is currently False, but it will be changed to True in Numba 0.59.0. See https://numba.readthedocs.io/en/stable/reference/deprecation.html#deprecation-of-object-mode-fall-back-behaviour-when-using-jit for details.\u001b[0m\n",
      "  def _logit_inverse(x):\n",
      "D:\\anaconda\\lib\\site-packages\\shap\\utils\\_masked_model.py:363: NumbaDeprecationWarning: \u001b[1mThe 'nopython' keyword argument was not supplied to the 'numba.jit' decorator. The implicit default value for this argument is currently False, but it will be changed to True in Numba 0.59.0. See https://numba.readthedocs.io/en/stable/reference/deprecation.html#deprecation-of-object-mode-fall-back-behaviour-when-using-jit for details.\u001b[0m\n",
      "  def _build_fixed_single_output(averaged_outs, last_outs, outputs, batch_positions, varying_rows, num_varying_rows, link, linearizing_weights):\n",
      "D:\\anaconda\\lib\\site-packages\\shap\\utils\\_masked_model.py:385: NumbaDeprecationWarning: \u001b[1mThe 'nopython' keyword argument was not supplied to the 'numba.jit' decorator. The implicit default value for this argument is currently False, but it will be changed to True in Numba 0.59.0. See https://numba.readthedocs.io/en/stable/reference/deprecation.html#deprecation-of-object-mode-fall-back-behaviour-when-using-jit for details.\u001b[0m\n",
      "  def _build_fixed_multi_output(averaged_outs, last_outs, outputs, batch_positions, varying_rows, num_varying_rows, link, linearizing_weights):\n",
      "D:\\anaconda\\lib\\site-packages\\shap\\utils\\_masked_model.py:428: NumbaDeprecationWarning: \u001b[1mThe 'nopython' keyword argument was not supplied to the 'numba.jit' decorator. The implicit default value for this argument is currently False, but it will be changed to True in Numba 0.59.0. See https://numba.readthedocs.io/en/stable/reference/deprecation.html#deprecation-of-object-mode-fall-back-behaviour-when-using-jit for details.\u001b[0m\n",
      "  def _init_masks(cluster_matrix, M, indices_row_pos, indptr):\n",
      "D:\\anaconda\\lib\\site-packages\\shap\\utils\\_masked_model.py:439: NumbaDeprecationWarning: \u001b[1mThe 'nopython' keyword argument was not supplied to the 'numba.jit' decorator. The implicit default value for this argument is currently False, but it will be changed to True in Numba 0.59.0. See https://numba.readthedocs.io/en/stable/reference/deprecation.html#deprecation-of-object-mode-fall-back-behaviour-when-using-jit for details.\u001b[0m\n",
      "  def _rec_fill_masks(cluster_matrix, indices_row_pos, indptr, indices, M, ind):\n",
      "D:\\anaconda\\lib\\site-packages\\shap\\maskers\\_tabular.py:186: NumbaDeprecationWarning: \u001b[1mThe 'nopython' keyword argument was not supplied to the 'numba.jit' decorator. The implicit default value for this argument is currently False, but it will be changed to True in Numba 0.59.0. See https://numba.readthedocs.io/en/stable/reference/deprecation.html#deprecation-of-object-mode-fall-back-behaviour-when-using-jit for details.\u001b[0m\n",
      "  def _single_delta_mask(dind, masked_inputs, last_mask, data, x, noop_code):\n",
      "D:\\anaconda\\lib\\site-packages\\shap\\maskers\\_tabular.py:197: NumbaDeprecationWarning: \u001b[1mThe 'nopython' keyword argument was not supplied to the 'numba.jit' decorator. The implicit default value for this argument is currently False, but it will be changed to True in Numba 0.59.0. See https://numba.readthedocs.io/en/stable/reference/deprecation.html#deprecation-of-object-mode-fall-back-behaviour-when-using-jit for details.\u001b[0m\n",
      "  def _delta_masking(masks, x, curr_delta_inds, varying_rows_out,\n",
      "D:\\anaconda\\lib\\site-packages\\shap\\maskers\\_image.py:175: NumbaDeprecationWarning: \u001b[1mThe 'nopython' keyword argument was not supplied to the 'numba.jit' decorator. The implicit default value for this argument is currently False, but it will be changed to True in Numba 0.59.0. See https://numba.readthedocs.io/en/stable/reference/deprecation.html#deprecation-of-object-mode-fall-back-behaviour-when-using-jit for details.\u001b[0m\n",
      "  def _jit_build_partition_tree(xmin, xmax, ymin, ymax, zmin, zmax, total_ywidth, total_zwidth, M, clustering, q):\n",
      "D:\\anaconda\\lib\\site-packages\\shap\\explainers\\_partition.py:676: NumbaDeprecationWarning: \u001b[1mThe 'nopython' keyword argument was not supplied to the 'numba.jit' decorator. The implicit default value for this argument is currently False, but it will be changed to True in Numba 0.59.0. See https://numba.readthedocs.io/en/stable/reference/deprecation.html#deprecation-of-object-mode-fall-back-behaviour-when-using-jit for details.\u001b[0m\n",
      "  def lower_credit(i, value, M, values, clustering):\n"
     ]
    },
    {
     "name": "stderr",
     "output_type": "stream",
     "text": [
      "\u001b[1mThe 'nopython' keyword argument was not supplied to the 'numba.jit' decorator. The implicit default value for this argument is currently False, but it will be changed to True in Numba 0.59.0. See https://numba.readthedocs.io/en/stable/reference/deprecation.html#deprecation-of-object-mode-fall-back-behaviour-when-using-jit for details.\u001b[0m\n",
      "\u001b[1mThe 'nopython' keyword argument was not supplied to the 'numba.jit' decorator. The implicit default value for this argument is currently False, but it will be changed to True in Numba 0.59.0. See https://numba.readthedocs.io/en/stable/reference/deprecation.html#deprecation-of-object-mode-fall-back-behaviour-when-using-jit for details.\u001b[0m\n"
     ]
    }
   ],
   "source": [
    "import numpy as np\n",
    "import matplotlib.pyplot as plt\n",
    "import pandas as pd\n",
    "from pandas import DataFrame\n",
    "from sklearn.metrics import roc_curve, auc\n",
    "import seaborn as sns\n",
    "from sklearn.model_selection import train_test_split\n",
    "from sklearn import linear_model\n",
    "from sklearn.neural_network import MLPClassifier\n",
    "from sklearn.svm import SVC\n",
    "from sklearn.ensemble import RandomForestClassifier\n",
    "from sklearn import linear_model\n",
    "from sklearn.neural_network import MLPRegressor\n",
    "from sklearn.svm import NuSVR, SVR\n",
    "from sklearn.ensemble import RandomForestRegressor\n",
    "from xgboost import  XGBRegressor\n",
    "import shap\n",
    "\n",
    "import sys\n",
    "import rdkit\n",
    "from rdkit.Chem.Draw import IPythonConsole\n",
    "from IPython.display import SVG\n",
    "from rdkit import rdBase\n",
    "from rdkit import Chem\n",
    "from rdkit.Chem import AllChem, DataStructs\n",
    "from rdkit.Chem import Draw\n",
    "from rdkit.Chem import PyMol\n",
    "from rdkit.Chem.Draw import DrawMorganBit, DrawMorganBits,DrawMorganEnv, IPythonConsole\n",
    "from rdkit.ML.Descriptors import MoleculeDescriptors\n",
    "from rdkit.Chem import PyMol\n",
    "from rdkit.Chem import MACCSkeys\n",
    "\n",
    "from PIL import Image "
   ]
  },
  {
   "cell_type": "code",
   "execution_count": 2,
   "id": "2907cf6c",
   "metadata": {},
   "outputs": [],
   "source": [
    "df_MF = pd.read_csv('molecular_descriptors.csv')\n",
    "df_val = pd.read_csv('molecular_descriptors.csv')\n",
    "df_test = pd.read_csv('molecular_descriptors.csv')"
   ]
  },
  {
   "cell_type": "code",
   "execution_count": 3,
   "id": "37ee5393",
   "metadata": {},
   "outputs": [],
   "source": [
    "X_train = df_MF.iloc[:].values\n",
    "X_val = df_val.iloc[:].values\n",
    "X_test = df_test.iloc[:].values"
   ]
  },
  {
   "cell_type": "code",
   "execution_count": 4,
   "id": "6d175068",
   "metadata": {},
   "outputs": [
    {
     "name": "stdout",
     "output_type": "stream",
     "text": [
      "训练集特征: (1033, 14)\n",
      "训练集标签: (1033,)\n",
      "验证集特征: (129, 14)\n",
      "验证集标签: (129,)\n",
      "测试集特征: (129, 14)\n",
      "测试集标签: (129,)\n"
     ]
    }
   ],
   "source": [
    "y_train = pd.read_csv('train_molecule_dataset.csv')\n",
    "y_val = pd.read_csv('val_molecule_dataset.csv')\n",
    "y_test = pd.read_csv('test_molecule_dataset.csv')\n",
    "\n",
    "y_train = y_train['log_k'].values\n",
    "y_val = y_val['log_k'].values\n",
    "y_test = y_test['log_k'].values\n",
    "\n",
    "y_train = y_train.ravel()\n",
    "y_val = y_val.ravel()\n",
    "y_test = y_test.ravel()\n",
    "\n",
    "print('训练集特征:', X_train.shape)\n",
    "print('训练集标签:', y_train.shape)\n",
    "print('验证集特征:', X_val.shape)\n",
    "print('验证集标签:', y_val.shape)\n",
    "print('测试集特征:', X_test.shape)\n",
    "print('测试集标签:', y_test.shape)"
   ]
  },
  {
   "cell_type": "code",
   "execution_count": 14,
   "id": "ea887228",
   "metadata": {},
   "outputs": [
    {
     "name": "stdout",
     "output_type": "stream",
     "text": [
      "_train_RMSE=0.3227481255656336\n",
      "_val_RMSE=0.4088249990893539\n",
      "_test_RMSE=0.3661676461069841\n",
      "_train=0.6881818051317107\n",
      "_val=0.4825890207252779\n",
      "_test=0.5799046436844618\n"
     ]
    }
   ],
   "source": [
    "clf = RandomForestRegressor(random_state=300, n_estimators= 100, min_samples_split=4, min_samples_leaf=6, max_features=12, max_depth=16)\n",
    "\n",
    "clf.fit(X_train, y_train)\n",
    "\n",
    "y_pred1 = clf.predict(X_train)\n",
    "ResidualSquare = (y_pred1 - y_train)**2\n",
    "MSE = np.mean(ResidualSquare)\n",
    "RMSE=np.sqrt(MSE)\n",
    "print(f'_train_RMSE={RMSE}')\n",
    "\n",
    "y_pred2 = clf.predict(X_val)\n",
    "ResidualSquare = (y_pred2 - y_val)**2\n",
    "MSE = np.mean(ResidualSquare)\n",
    "RMSE=np.sqrt(MSE)\n",
    "print(f'_val_RMSE={RMSE}')\n",
    "\n",
    "y_pred = clf.predict(X_test)\n",
    "ResidualSquare = (y_pred - y_test)**2\n",
    "MSE = np.mean(ResidualSquare)\n",
    "RMSE=np.sqrt(MSE)\n",
    "print(f'_test_RMSE={RMSE}')\n",
    "\n",
    "\n",
    "score_train = clf.score(X_train, y_train)\n",
    "score_val = clf.score(X_val, y_val)\n",
    "score_test = clf.score(X_test, y_test)\n",
    "print(f'_train={score_train}')\n",
    "print(f'_val={score_val}')\n",
    "print(f'_test={score_test}')"
   ]
  },
  {
   "cell_type": "code",
   "execution_count": 19,
   "id": "7cd285eb",
   "metadata": {},
   "outputs": [
    {
     "name": "stdout",
     "output_type": "stream",
     "text": [
      "_train_RMSE=0.44974127883142456\n",
      "_val_RMSE=0.4580148141606375\n",
      "_test_RMSE=0.4201235296840901\n",
      "_train=0.3945204260855465\n",
      "_val=0.35058875943399204\n",
      "_test=0.4469785766489638\n"
     ]
    }
   ],
   "source": [
    "clf = XGBRegressor(n_estimators=300, max_depth=16, learning_rate=0.35, gamma=2.0, alpha= 0.4)\n",
    "clf.fit(X_train, y_train)\n",
    "\n",
    "y_pred1 = clf.predict(X_train)\n",
    "ResidualSquare = (y_pred1 - y_train)**2\n",
    "MSE = np.mean(ResidualSquare)\n",
    "RMSE=np.sqrt(MSE)\n",
    "print(f'_train_RMSE={RMSE}')\n",
    "\n",
    "y_pred2 = clf.predict(X_val)\n",
    "ResidualSquare = (y_pred2 - y_val)**2\n",
    "MSE = np.mean(ResidualSquare)\n",
    "RMSE=np.sqrt(MSE)\n",
    "print(f'_val_RMSE={RMSE}')\n",
    "\n",
    "y_pred = clf.predict(X_test)\n",
    "ResidualSquare = (y_pred - y_test)**2\n",
    "MSE = np.mean(ResidualSquare)\n",
    "RMSE=np.sqrt(MSE)\n",
    "print(f'_test_RMSE={RMSE}')\n",
    "\n",
    "\n",
    "score_train = clf.score(X_train, y_train)\n",
    "score_val = clf.score(X_val, y_val)\n",
    "score_test = clf.score(X_test, y_test)\n",
    "print(f'_train={score_train}')\n",
    "print(f'_val={score_val}')\n",
    "print(f'_test={score_test}')"
   ]
  },
  {
   "cell_type": "code",
   "execution_count": 27,
   "id": "b1f81e26",
   "metadata": {},
   "outputs": [
    {
     "name": "stdout",
     "output_type": "stream",
     "text": [
      "_train_RMSE=0.3917992260036901\n",
      "_val_RMSE=0.543676463406844\n",
      "_test_RMSE=0.534017986332766\n",
      "_train=0.5404834653149806\n",
      "_val=0.08495634188295154\n",
      "_test=0.1064893895526462\n"
     ]
    }
   ],
   "source": [
    "clf = SVR(gamma=0.220, epsilon=0.15, C=0.32,kernel='rbf')\n",
    "clf.fit(X_train, y_train)\n",
    "\n",
    "y_pred1 = clf.predict(X_train)\n",
    "ResidualSquare = (y_pred1 - y_train)**2\n",
    "MSE = np.mean(ResidualSquare)\n",
    "RMSE=np.sqrt(MSE)\n",
    "print(f'_train_RMSE={RMSE}')\n",
    "\n",
    "y_pred2 = clf.predict(X_val)\n",
    "ResidualSquare = (y_pred2 - y_val)**2\n",
    "MSE = np.mean(ResidualSquare)\n",
    "RMSE=np.sqrt(MSE)\n",
    "print(f'_val_RMSE={RMSE}')\n",
    "\n",
    "y_pred = clf.predict(X_test)\n",
    "ResidualSquare = (y_pred - y_test)**2\n",
    "MSE = np.mean(ResidualSquare)\n",
    "RMSE=np.sqrt(MSE)\n",
    "print(f'_test_RMSE={RMSE}')\n",
    "\n",
    "\n",
    "score_train = clf.score(X_train, y_train)\n",
    "score_val = clf.score(X_val, y_val)\n",
    "score_test = clf.score(X_test, y_test)\n",
    "print(f'_train={score_train}')\n",
    "print(f'_val={score_val}')\n",
    "print(f'_test={score_test}')"
   ]
  },
  {
   "cell_type": "code",
   "execution_count": 15,
   "id": "6fdcb804",
   "metadata": {},
   "outputs": [
    {
     "name": "stdout",
     "output_type": "stream",
     "text": [
      "_train_RMSE=6.225289226736587e+28\n",
      "_val_RMSE=4776462918.35477\n",
      "_test_RMSE=4776462918.384439\n",
      "_train=-1.1600936852203863e+58\n",
      "_val=-7.062745744277667e+19\n",
      "_test=-7.1482669952885195e+19\n"
     ]
    }
   ],
   "source": [
    "clf = MLPRegressor(solver='adam',activation='relu',random_state=233, max_iter=1070, hidden_layer_sizes=(100,100), alpha= 4.3 )\n",
    "clf.fit(X_train, y_train)\n",
    "\n",
    "y_pred1 = clf.predict(X_train)\n",
    "ResidualSquare = (y_pred1 - y_train)**2\n",
    "MSE = np.mean(ResidualSquare)\n",
    "RMSE=np.sqrt(MSE)\n",
    "print(f'_train_RMSE={RMSE}')\n",
    "\n",
    "y_pred2 = clf.predict(X_val)\n",
    "ResidualSquare = (y_pred2 - y_val)**2\n",
    "MSE = np.mean(ResidualSquare)\n",
    "RMSE=np.sqrt(MSE)\n",
    "print(f'_val_RMSE={RMSE}')\n",
    "\n",
    "y_pred = clf.predict(X_test)\n",
    "ResidualSquare = (y_pred - y_test)**2\n",
    "MSE = np.mean(ResidualSquare)\n",
    "RMSE=np.sqrt(MSE)\n",
    "print(f'_test_RMSE={RMSE}')\n",
    "\n",
    "\n",
    "score_train = clf.score(X_train, y_train)\n",
    "score_val = clf.score(X_val, y_val)\n",
    "score_test = clf.score(X_test, y_test)\n",
    "print(f'_train={score_train}')\n",
    "print(f'_val={score_val}')\n",
    "print(f'_test={score_test}')"
   ]
  },
  {
   "cell_type": "code",
   "execution_count": null,
   "id": "fd753d7c",
   "metadata": {},
   "outputs": [],
   "source": []
  }
 ],
 "metadata": {
  "kernelspec": {
   "display_name": "Python 3",
   "language": "python",
   "name": "python3"
  },
  "language_info": {
   "codemirror_mode": {
    "name": "ipython",
    "version": 3
   },
   "file_extension": ".py",
   "mimetype": "text/x-python",
   "name": "python",
   "nbconvert_exporter": "python",
   "pygments_lexer": "ipython3",
   "version": "3.8.5"
  }
 },
 "nbformat": 4,
 "nbformat_minor": 5
}
